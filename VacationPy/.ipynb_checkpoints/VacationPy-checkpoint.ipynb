{
 "cells": [
  {
   "cell_type": "code",
   "execution_count": null,
   "metadata": {},
   "outputs": [],
   "source": [
    "# Dependencies and Setup\n",
    "import matplotlib.pyplot as plt\n",
    "import pandas as pd\n",
    "import numpy as np\n",
    "import requests\n",
    "import gmaps\n",
    "import os\n",
    "\n",
    "# Output File (CSV)\n",
    "output_data_file = \"../output_data/cities.csv\"\n",
    "\n",
    "# Import API key\n",
    "from config import g_key\n",
    "\n",
    "# Access maps with unique API key\n",
    "gmaps.configure(api_key = g_key)"
   ]
  },
  {
   "cell_type": "code",
   "execution_count": null,
   "metadata": {},
   "outputs": [],
   "source": [
    "cities_df = pd.read_csv(output_data_file)\n",
    "\n",
    "cities_df.head()"
   ]
  },
  {
   "cell_type": "code",
   "execution_count": null,
   "metadata": {},
   "outputs": [],
   "source": [
    "#Data for gmaps. \n",
    "locations = cities_df[[\"Lat\", \"Lng\"]]\n",
    "humidity = cities_df[\"Humidity\"]\n",
    "#Value for max intensity.\n",
    "maxHumidity = cities_df[\"Humidity\"].max()"
   ]
  },
  {
   "cell_type": "code",
   "execution_count": null,
   "metadata": {},
   "outputs": [],
   "source": [
    "\n",
    "# Ploting the Heatmap\n",
    "fig = gmaps.figure(map_type = 'HYBRID')\n",
    "\n",
    "# Creating the heat layer\n",
    "heat_layer = gmaps.heatmap_layer(locations, \n",
    "                                 weights = humidity, \n",
    "                                 dissipating = False, \n",
    "                                 max_intensity = maxHumidity, #Scales based on the max humidity of the dataset..\n",
    "                                 point_radius = 1) \n",
    "\n",
    "# Add layer\n",
    "fig.add_layer(heat_layer)\n",
    "\n",
    "# showing the figure\n",
    "fig"
   ]
  },
  {
   "cell_type": "code",
   "execution_count": null,
   "metadata": {},
   "outputs": [],
   "source": [
    "hotel_df = cities_df[(cities_df['Max Temp'] >= 80) & (cities_df['Max Temp'] <= 90) & (cities_df['Cloudiness'] <= 10) & (cities_df['Wind Speed'] <= 10)]\n",
    "\n",
    "hotel_df"
   ]
  },
  {
   "cell_type": "code",
   "execution_count": null,
   "metadata": {},
   "outputs": [],
   "source": [
    ":\n",
    "#Create empty column to store hotel names\n",
    "hotel_df['Hotel Name'] = \"\"\n",
    "\n",
    "#Filter the columns show only the info we want.\n",
    "hotel_df = hotel_df[['City','Country','Lat','Lng','Hotel Name']]\n",
    "\n",
    "hotel_df"
   ]
  },
  {
   "cell_type": "code",
   "execution_count": null,
   "metadata": {},
   "outputs": [],
   "source": [
    "# Set up the base url for the google nearby search.\n",
    "\n",
    "base_url = \"https://maps.googleapis.com/maps/api/place/nearbysearch/json\"\n",
    "\n",
    "# use iterrows to iterate through pandas dataframe \n",
    "for index, row in hotel_df.iterrows(): \n",
    "    \n",
    "    #Set up search parameters for 5km.\n",
    "    params = {\n",
    "        \"location\": f\"{row['Lat']},{row['Lng']}\",\n",
    "        \"radius\" : 50000, #We are not using rank ny distance because we want to rank by importance thus we leave default and use radius only\n",
    "        \"type\": \"lodging\",\n",
    "        \"key\": g_key\n",
    "    }\n",
    "    \n",
    "    #Response\n",
    "    response = requests.get(base_url, params = params).json()\n",
    "    \n",
    "    # extract results\n",
    "    results = response['results']\n",
    "    \n",
    "    try: \n",
    "        \n",
    "        #Stores the hotel name under the hotel column.\n",
    "        hotel_df.loc[index, 'Hotel Name'] = results[0]['name']\n",
    "\n",
    "    #If the search cannot find a hotel in 5km radius, try another search for a 10km radius.\n",
    "    except (KeyError, IndexError):\n",
    "        \n",
    "        try:\n",
    "            \n",
    "            params = {\n",
    "                \"location\": f\"{row['Lat']},{row['Lng']}\",\n",
    "                \"radius\" : 10000, \n",
    "                \"type\": \"lodging\",\n",
    "                \"key\": g_key\n",
    "            }\n",
    "            response = requests.get(base_url, params = params).json()\n",
    "            \n",
    "            # extract results\n",
    "            results = response['results']\n",
    "            \n",
    "            hotel_df.loc[index, 'Hotel Name'] = results[0]['name']\n",
    "            \n",
    "        #If a hotel is not found in a 10km radius, skip the search.\n",
    "        except (KeyError, IndexError):\n",
    "            \n",
    "            print(f\"Missing field/result... skipping. {row['City']}\")"
   ]
  },
  {
   "cell_type": "code",
   "execution_count": null,
   "metadata": {},
   "outputs": [],
   "source": [
    "#Removes cities without hotels in the desired radius range.\n",
    "narrowed_city_df = hotel_df[hotel_df['Hotel Name'] != '']\n",
    "\n",
    "narrowed_city_df"
   ]
  },
  {
   "cell_type": "code",
   "execution_count": null,
   "metadata": {},
   "outputs": [],
   "source": [
    "\n",
    "#Templeate for map tags.\n",
    "info_box_template = \"\"\"\n",
    "<dl>\n",
    "<dt>Name</dt><dd>{Hotel Name}</dd>\n",
    "<dt>City</dt><dd>{City}</dd>\n",
    "<dt>Country</dt><dd>{Country}</dd>\n",
    "</dl>\n",
    "\"\"\"\n",
    "#Gets the info for each hotel.\n",
    "hotel_info = [info_box_template.format(**row) for index, row in narrowed_city_df.iterrows()]\n",
    "locations = narrowed_city_df[[\"Lat\", \"Lng\"]]"
   ]
  },
  {
   "cell_type": "code",
   "execution_count": null,
   "metadata": {},
   "outputs": [],
   "source": [
    "# Add marker layer ontop of heat map\n",
    "markers = gmaps.marker_layer(locations, \n",
    "                             info_box_content = hotel_info)\n",
    "fig.add_layer(markers)\n",
    "\n",
    "# Display Map\n",
    "fig"
   ]
  }
 ],
 "metadata": {
  "kernelspec": {
   "display_name": "Python 3",
   "language": "python",
   "name": "python3"
  },
  "language_info": {
   "codemirror_mode": {
    "name": "ipython",
    "version": 3
   },
   "file_extension": ".py",
   "mimetype": "text/x-python",
   "name": "python",
   "nbconvert_exporter": "python",
   "pygments_lexer": "ipython3",
   "version": "3.7.6"
  }
 },
 "nbformat": 4,
 "nbformat_minor": 4
}
